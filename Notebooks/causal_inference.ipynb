{
 "cells": [
  {
   "cell_type": "markdown",
   "id": "c2a3ace7",
   "metadata": {},
   "source": [
    "<h1 style=\"text-align: center;\">\n",
    "    Trabajo Práctico\n",
    "</h1>\n",
    "\n",
    "<h2 style=\"text-align: center;\">\n",
    "    Sistemas Automáticos de Diagnóstico y Detección de Fallas II\n",
    "</h2>\n",
    "\n",
    "<h3 style=\"text-align: center;\">\n",
    "    Alumnos\n",
    "</h3>\n",
    "\n",
    "<div style=\"display: flex;justify-content: center;align-items: center\">\n",
    "<table>\n",
    "  <tbody>\n",
    "    <tr>\n",
    "      <th><h5 style=\"text-align: center;\">Nombre</h5></th>\n",
    "      <th><h5 style=\"text-align: center;\">Padrón</h5></th>\n",
    "    </tr>\n",
    "    <tr>\n",
    "      <td><h5 style=\"text-align: center;\">Barreneche Franco</h5></td>\n",
    "      <td><h5 style=\"text-align: center;\">102205</h5></td>\n",
    "    </tr>\n",
    "    <tr>\n",
    "      <td><h5 style=\"text-align: center;\">Botta Guido</h5></td>\n",
    "      <td><h5 style=\"text-align: center;\">102103</h5></td>\n",
    "    </tr>\n",
    "    <tr>\n",
    "      <td><h5 style=\"text-align: center;\">Carol Lugones Ignacio</h5></td>\n",
    "      <td><h5 style=\"text-align: center;\">100073</h5></td>\n",
    "    </tr>\n",
    "    <tr>\n",
    "      <td><h5 style=\"text-align: center;\">Pernin Alejandro</h5></td>\n",
    "      <td><h5 style=\"text-align: center;\">92216</h5></td>\n",
    "    </tr>\n",
    "  </tbody>\n",
    "</table>\n",
    "</div>"
   ]
  },
  {
   "cell_type": "markdown",
   "id": "82a68716-f069-4023-9301-5d06f52a563f",
   "metadata": {},
   "source": [
    "# Importación de bibliotecas"
   ]
  },
  {
   "cell_type": "code",
   "execution_count": null,
   "id": "1540b0c4-b222-49ca-83e7-ee56b3f4bb86",
   "metadata": {},
   "outputs": [],
   "source": [
    "import numpy as np\n",
    "import pandas as pd\n",
    "from copy import copy\n",
    "import random\n",
    "import os                                                 \n",
    "import sys\n",
    "import dowhy\n",
    "from dowhy import CausalModel\n",
    "module_path = os.path.abspath(os.path.join('../server'))                                                      \n",
    "if module_path not in sys.path:                        \n",
    "    sys.path.append(module_path)                    \n",
    "from expertSystem.expertSystem import getCandidateBeers\n",
    "import itertools"
   ]
  },
  {
   "cell_type": "markdown",
   "id": "0d996624-1ba0-4b31-a6dc-363f12713a13",
   "metadata": {},
   "source": [
    "# Generación de DataSet sintético"
   ]
  },
  {
   "cell_type": "code",
   "execution_count": null,
   "id": "a3e1d76a-91da-49bb-8a10-07c9694e28fa",
   "metadata": {},
   "outputs": [],
   "source": [
    "INTENSITY_TYPES = [\"baja\", \"media\", \"alta\", \"*\"]\n",
    "COLOR_TYPES = [\"palido\", \"ambar\", \"oscuro\", \"*\"]\n",
    "BITTERNESS_TYPES = [\"bajo\", \"medio\", \"alto\", \"*\"]\n",
    "HOP_TYPES = [\"viejo mundo\", \"nuevo mundo\", \"*\"]\n",
    "FERMENTATION_TYPES = [\"baja\", \"media\", \"alta\", \"*\"]\n",
    "YEAST_TYPES = [\"lager\", \"ale\", \"*\"]"
   ]
  },
  {
   "cell_type": "code",
   "execution_count": null,
   "id": "d01c40b5-5743-421c-b62b-ec451a1e8872",
   "metadata": {},
   "outputs": [],
   "source": [
    "NUM_CLIENTS = 8000\n",
    "\n",
    "feature_types = {\n",
    "    'intensity': INTENSITY_TYPES,\n",
    "    'color': COLOR_TYPES,\n",
    "    'bitterness': BITTERNESS_TYPES,\n",
    "    'hop': HOP_TYPES,\n",
    "    'fermentation': FERMENTATION_TYPES,\n",
    "    'yeast': YEAST_TYPES,\n",
    "}\n",
    "template = {\n",
    "    'intensity': '*',\n",
    "    'color': '*',\n",
    "    'bitterness': '*',\n",
    "    'hop': '*',\n",
    "    'fermentation': '*',\n",
    "    'yeast': '*'\n",
    "}\n",
    "features = list(template.keys())\n",
    "\n",
    "responses = []\n",
    "for client_idx in range(NUM_CLIENTS):\n",
    "    response = copy(template)\n",
    "    random.shuffle(features)\n",
    "    for feature in features:\n",
    "        response[feature] = random.choice(feature_types[feature])\n",
    "        engine_result = getCandidateBeers(response)\n",
    "        candidates = engine_result['candidateBeers']\n",
    "        if not candidates:\n",
    "            response['beer'] = 'None'\n",
    "            responses.append(response)\n",
    "            break\n",
    "        if len(candidates) == 1:\n",
    "            response['beer'] = candidates[0]\n",
    "            responses.append(response)\n",
    "            break\n",
    "\n",
    "result_df = pd.DataFrame(responses)\n",
    "result_df.head(10)"
   ]
  },
  {
   "cell_type": "code",
   "execution_count": null,
   "id": "8e627eec",
   "metadata": {},
   "outputs": [],
   "source": [
    "allOptions = list(itertools.product(*feature_types.values()))\n",
    "responsesI = []\n",
    "\n",
    "for x in allOptions:\n",
    "    d = {\n",
    "        'intensity': x[0],\n",
    "        'color': x[1],\n",
    "        'bitterness': x[2],\n",
    "        'hop': x[3],\n",
    "        'fermentation': x[4],\n",
    "        'yeast': x[5]\n",
    "    }\n",
    "    r = getCandidateBeers(d)['candidateBeers']\n",
    "    if len(r) > 2:\n",
    "        continue\n",
    "    if len(r) == 1:\n",
    "        d['beer'] = r[0]\n",
    "    else:\n",
    "        d['beer'] = 'None'\n",
    "    responsesI.append(d)"
   ]
  },
  {
   "cell_type": "code",
   "execution_count": null,
   "id": "66c3d9a2",
   "metadata": {},
   "outputs": [],
   "source": [
    "result_df = pd.DataFrame(responsesI)\n",
    "result_df.head(10)"
   ]
  },
  {
   "cell_type": "markdown",
   "id": "28607efe-6a0c-4043-b006-f30d9ceb4c5a",
   "metadata": {},
   "source": [
    "# Análisis de inferencia causal"
   ]
  },
  {
   "cell_type": "code",
   "execution_count": null,
   "id": "b88675c6-3019-4c86-b76a-29b33886c9ac",
   "metadata": {},
   "outputs": [],
   "source": [
    "intensity_mapping = {\"*\":0,\"baja\":1,\"media\":2,\"alta\":3}\n",
    "color_mapping = {'*': 0, 'palido': 1, 'oscuro': 2, 'ambar': 3}\n",
    "bitterness_mapping = {\"*\":0,\"bajo\":1,\"medio\":2,\"alto\":3}\n",
    "hop_mapping ={\"*\": 0, \"viejo mundo\" : 1, \"nuevo mundo\": 2}\n",
    "fermentation_mapping = intensity_mapping\n",
    "yeast_mapping = {\"*\":0, \"lager\":1, \"ale\":2}\n",
    "beer_mapping = {'Cream Ale': 0, 'None': 1,'Kolsch': 2, 'Lager Ambar Checa': 3, 'Baltic Porter': 4, 'Ipa Blanca': 5}\n",
    "\n",
    "result_df = result_df.replace({\n",
    "    'intensity': intensity_mapping,\n",
    "    'color': color_mapping,\n",
    "    'bitterness': bitterness_mapping,\n",
    "    'hop': hop_mapping,\n",
    "    'fermentation': fermentation_mapping,\n",
    "    'yeast': yeast_mapping,\n",
    "    'beer': beer_mapping\n",
    "})\n",
    "result_df"
   ]
  },
  {
   "cell_type": "code",
   "execution_count": null,
   "id": "fb69448a-a5ea-44ac-bd4c-051b7339b15f",
   "metadata": {},
   "outputs": [],
   "source": [
    "def generate_causal_model(target_feature):\n",
    "    target_df = result_df.copy()\n",
    "    target_df['treatment'] = result_df[target_feature] != 0\n",
    "    causal_graph = \"\"\"digraph {\n",
    "                        hop;\n",
    "                        fermentation;\n",
    "                        yeast;\n",
    "                        \n",
    "                        intensity;\n",
    "                        color;\n",
    "                        bitterness;\n",
    "    \n",
    "                        treatment;\n",
    "    \n",
    "                        hop->beer;\n",
    "                        fermentation->beer;\n",
    "                        yeast->beer;\n",
    "                        intensity->beer;\n",
    "                        color->beer;\n",
    "                        bitterness->beer;\n",
    "                        treatment->beer;\n",
    "                        Z->treatment;\n",
    "                   \"\"\" \n",
    "    causal_graph = causal_graph + target_feature + \"->treatment;}\"\n",
    "    model = dowhy.CausalModel(data=target_df,\n",
    "                              graph=causal_graph.replace(\"\\n\", \" \"),\n",
    "                              treatment=\"treatment\",\n",
    "                              outcome=\"beer\")\n",
    "    #model.view_model()\n",
    "    return model"
   ]
  },
  {
   "cell_type": "code",
   "execution_count": null,
   "id": "d6014b74-1d88-4cc3-97c7-622d37107b14",
   "metadata": {},
   "outputs": [],
   "source": [
    "def refute_model(model):\n",
    "    identified_estimand = model.identify_effect(proceed_when_unidentifiable=True)\n",
    "    estimate = model.estimate_effect(identified_estimand,\n",
    "                                     method_name='backdoor.propensity_score_matching',\n",
    "                                     target_units='att')\n",
    "    refutation = model.refute_estimate(identified_estimand, \n",
    "                                       estimate, \n",
    "                                       method_name='placebo_treatment_refuter',\n",
    "                                       placebo_type='permute', \n",
    "                                       num_simulations=20)\n",
    "    return refutation"
   ]
  },
  {
   "cell_type": "markdown",
   "id": "16df05cd-f98e-489d-ba32-d0ac59be8a8c",
   "metadata": {},
   "source": [
    "## Features invididuales"
   ]
  },
  {
   "cell_type": "code",
   "execution_count": null,
   "id": "decd9184-2c86-417b-9322-ef31068c0015",
   "metadata": {
    "scrolled": true
   },
   "outputs": [],
   "source": [
    "p_values = dict()\n",
    "for feature in features:\n",
    "    print(feature.upper())\n",
    "    model = generate_causal_model(feature)\n",
    "    refutation = refute_model(model)\n",
    "    p_values[feature] = refutation.refutation_result['p_value']\n",
    "    print(refutation)"
   ]
  },
  {
   "cell_type": "code",
   "execution_count": null,
   "id": "a90c8267-e11b-4b7d-8af4-3b88820134d8",
   "metadata": {},
   "outputs": [],
   "source": [
    "feature = 'yeast'\n",
    "print(feature.upper())\n",
    "model = generate_causal_model(feature)\n",
    "refutation = refute_model(model)\n",
    "print(refutation)"
   ]
  },
  {
   "cell_type": "code",
   "execution_count": null,
   "id": "0c9f44ba-68fb-47f7-8d03-84b755ddc20b",
   "metadata": {},
   "outputs": [],
   "source": [
    "print(p_values)"
   ]
  },
  {
   "cell_type": "code",
   "execution_count": null,
   "id": "740ddc95-8b21-41c2-96d9-ee99cbe9cd42",
   "metadata": {},
   "outputs": [],
   "source": [
    "weights = dict()\n",
    "total = 0\n",
    "for feature, p_value in p_values.items():\n",
    "    weight = 1 - p_value\n",
    "    weights[feature] = weight\n",
    "    total += weight\n",
    "\n",
    "for feature in weights.keys():\n",
    "    weights[feature] = weights[feature]/total\n",
    "\n",
    "print(weights)"
   ]
  },
  {
   "cell_type": "code",
   "execution_count": null,
   "id": "e2c21250-36b6-4f99-a3b2-8f2cc3af3fd2",
   "metadata": {},
   "outputs": [],
   "source": [
    "x = weights\n",
    "l = {k: v for k, v in sorted(x.items(), key=lambda item: item[1])}\n",
    "for k in l.keys():\n",
    "    print(k, l[k])"
   ]
  },
  {
   "cell_type": "markdown",
   "id": "7199fbb6-2929-4216-b491-b96a8a62f57c",
   "metadata": {},
   "source": [
    "## Features jerarquizadas"
   ]
  },
  {
   "cell_type": "code",
   "execution_count": null,
   "id": "c8a276c1-c9b8-4690-8fa5-ada005c0d61a",
   "metadata": {},
   "outputs": [],
   "source": [
    "target_df = result_df.copy()\n",
    "target_df['treatment'] = (target_df['intensity'] != 0) & (target_df['fermentation'] != 0) & (target_df['color'] != 0)\n",
    "causal_graph = \"\"\"digraph {\n",
    "                    hop;\n",
    "                    fermentation;\n",
    "                    yeast;\n",
    "                    \n",
    "                    intensity;\n",
    "                    color;\n",
    "                    bitterness;\n",
    "\n",
    "                    treatment;\n",
    "\n",
    "                    intensity->beer;\n",
    "                    color->beer;\n",
    "                    bitterness->beer;\n",
    "                    \n",
    "                    Z->treatment;\n",
    "                    hop->intensity;\n",
    "                    yeast->intensity;\n",
    "                    fermentation->intensity;\n",
    "                    \n",
    "                    hop->color;\n",
    "                    yeast->color;\n",
    "                    fermentation->color;\n",
    "                    \n",
    "                    hop->bitterness;\n",
    "                    yeast->bitterness;\n",
    "                    fermentation->bitterness;\n",
    "                    \n",
    "                    hop->treatment;\n",
    "                    yeast->treatment;\n",
    "                    fermentation->treatment;\n",
    "                    \n",
    "                    treatment->bitterness;\n",
    "                    treatment->color;\n",
    "                    treatment->intensity;\n",
    "                }\n",
    "               \"\"\" \n",
    "model = dowhy.CausalModel(data=target_df,\n",
    "                          graph=causal_graph.replace(\"\\n\", \" \"),\n",
    "                          treatment=\"treatment\",\n",
    "                          outcome=\"beer\")\n",
    "model.view_model()\n",
    "print(refute_model(model))"
   ]
  },
  {
   "cell_type": "markdown",
   "id": "0119d738-21aa-4110-aec0-0b2e908dc6f7",
   "metadata": {},
   "source": [
    "# IA Explainable"
   ]
  },
  {
   "cell_type": "code",
   "execution_count": null,
   "id": "ddf7882b-8d8d-4d8a-8d95-26abfc8fd172",
   "metadata": {},
   "outputs": [],
   "source": [
    "from pycaret.datasets import get_data\n",
    "from pycaret.classification import *\n",
    "data = result_df\n",
    "clf1 = setup(data, target = 'beer', session_id=123)\n",
    "#best_model = compare_models()\n",
    "dt = create_model('dt', cross_validation=False)\n",
    "plot_model(dt)"
   ]
  },
  {
   "cell_type": "code",
   "execution_count": null,
   "id": "ff90f3da-c6b5-4f0d-b56a-df8d704b1326",
   "metadata": {},
   "outputs": [],
   "source": [
    "plot_model(dt, plot = 'feature')"
   ]
  },
  {
   "cell_type": "code",
   "execution_count": null,
   "id": "a81250c8-3426-4743-8b8e-81a3cea81869",
   "metadata": {},
   "outputs": [],
   "source": [
    "interpret_model(dt)"
   ]
  },
  {
   "cell_type": "code",
   "execution_count": null,
   "id": "85e0ee20-8e53-4fc2-a92f-fe0d3cf3fe4d",
   "metadata": {},
   "outputs": [],
   "source": [
    "interpret_model(dt, plot = 'correlation')"
   ]
  },
  {
   "cell_type": "code",
   "execution_count": null,
   "id": "95517cf4-96a2-4928-a257-a5cdc823317d",
   "metadata": {},
   "outputs": [],
   "source": []
  }
 ],
 "metadata": {
  "kernelspec": {
   "display_name": "Python 3 (ipykernel)",
   "language": "python",
   "name": "python3"
  },
  "language_info": {
   "codemirror_mode": {
    "name": "ipython",
    "version": 3
   },
   "file_extension": ".py",
   "mimetype": "text/x-python",
   "name": "python",
   "nbconvert_exporter": "python",
   "pygments_lexer": "ipython3",
   "version": "3.9.7"
  }
 },
 "nbformat": 4,
 "nbformat_minor": 5
}
